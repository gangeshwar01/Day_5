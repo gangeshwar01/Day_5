{
  "cells": [
    {
      "cell_type": "code",
      "execution_count": 7,
      "metadata": {},
      "outputs": [
        {
          "name": "stdout",
          "output_type": "stream",
          "text": [
            "                            OLS Regression Results                            \n",
            "==============================================================================\n",
            "Dep. Variable:                 income   R-squared:                       0.379\n",
            "Model:                            OLS   Adj. R-squared:                  0.367\n",
            "Method:                 Least Squares   F-statistic:                     31.20\n",
            "Date:                Mon, 04 Aug 2025   Prob (F-statistic):           1.42e-42\n",
            "Time:                        22:06:07   Log-Likelihood:                -5044.9\n",
            "No. Observations:                 470   AIC:                         1.011e+04\n",
            "Df Residuals:                     460   BIC:                         1.015e+04\n",
            "Df Model:                           9                                         \n",
            "Covariance Type:            nonrobust                                         \n",
            "==================================================================================\n",
            "                     coef    std err          t      P>|t|      [0.025      0.975]\n",
            "----------------------------------------------------------------------------------\n",
            "const           2.903e+04   1.42e+04      2.049      0.041    1193.937    5.69e+04\n",
            "age              618.3087     52.754     11.721      0.000     514.641     721.976\n",
            "income_per_age    12.7168      0.778     16.340      0.000      11.187      14.246\n",
            "log_expenses   -2174.2668   1339.040     -1.624      0.105   -4805.660     457.126\n",
            "region_North     336.2545   1654.401      0.203      0.839   -2914.865    3587.374\n",
            "region_South     731.0415   1709.669      0.428      0.669   -2628.688    4090.771\n",
            "region_Unknown   608.3328   1720.720      0.354      0.724   -2773.114    3989.779\n",
            "region_West     -266.4355   1637.924     -0.163      0.871   -3485.177    2952.306\n",
            "gender_Male      645.6865   1256.859      0.514      0.608   -1824.210    3115.583\n",
            "gender_Other     712.3919   1295.761      0.550      0.583   -1833.953    3258.737\n",
            "==============================================================================\n",
            "Omnibus:                      211.563   Durbin-Watson:                   2.019\n",
            "Prob(Omnibus):                  0.000   Jarque-Bera (JB):             2480.808\n",
            "Skew:                          -1.621   Prob(JB):                         0.00\n",
            "Kurtosis:                      13.778   Cond. No.                     4.56e+04\n",
            "==============================================================================\n",
            "\n",
            "Notes:\n",
            "[1] Standard Errors assume that the covariance matrix of the errors is correctly specified.\n",
            "[2] The condition number is large, 4.56e+04. This might indicate that there are\n",
            "strong multicollinearity or other numerical problems.\n"
          ]
        }
      ],
      "source": [
        "import pandas as pd\n",
        "import statsmodels.api as sm\n",
        "import numpy as np\n",
        "\n",
        "df = pd.read_csv(\"data/cleaned_data.csv\")\n",
        "\n",
        "df = pd.get_dummies(df, columns=[\"region\", \"gender\"], drop_first=True)\n",
        "\n",
        "feature_cols = [\"age\", \"income_per_age\", \"log_expenses\"] + [\n",
        "    col for col in df.columns if col.startswith(\"region_\") or col.startswith(\"gender_\")\n",
        "]\n",
        "X = df[feature_cols]\n",
        "y = df[\"income\"]\n",
        "\n",
        "X = X.apply(pd.to_numeric, errors=\"coerce\")\n",
        "y = pd.to_numeric(y, errors=\"coerce\")\n",
        "\n",
        "# Convert bools to ints\n",
        "X = X.astype({col: int for col in X.select_dtypes(include=[\"bool\"]).columns})\n",
        "\n",
        "# Drop rows with any NaNs\n",
        "mask = X.notnull().all(axis=1) & y.notnull()\n",
        "X = X[mask]\n",
        "y = y[mask]\n",
        "\n",
        "X = sm.add_constant(X)\n",
        "\n",
        "assert all([np.issubdtype(dt, np.number) for dt in X.dtypes]), \"Non-numeric found in X\"\n",
        "assert np.issubdtype(y.dtype, np.number), \"Non-numeric found in y\"\n",
        "\n",
        "model = sm.OLS(y, X).fit()\n",
        "print(model.summary())\n"
      ]
    }
  ],
  "metadata": {
    "kernelspec": {
      "display_name": "venv",
      "language": "python",
      "name": "python3"
    },
    "language_info": {
      "codemirror_mode": {
        "name": "ipython",
        "version": 3
      },
      "file_extension": ".py",
      "mimetype": "text/x-python",
      "name": "python",
      "nbconvert_exporter": "python",
      "pygments_lexer": "ipython3",
      "version": "3.10.11"
    }
  },
  "nbformat": 4,
  "nbformat_minor": 2
}
